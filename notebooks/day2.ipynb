{
 "cells": [
  {
   "cell_type": "markdown",
   "metadata": {},
   "source": [
    "# Day 2\n",
    "\n",
    "## Part 1"
   ]
  },
  {
   "cell_type": "code",
   "execution_count": 38,
   "metadata": {},
   "outputs": [],
   "source": [
    "directions = [tuple(i for i in t.strip('()').split()) for t in open('../directions.txt').read().split(\"\\n\")]"
   ]
  },
  {
   "cell_type": "code",
   "execution_count": 47,
   "metadata": {},
   "outputs": [],
   "source": [
    "forward = sum([int(t[1]) for t in directions if t[0] == 'forward'])\n",
    "up = sum([int(t[1]) for t in directions if t[0] == 'up'])\n",
    "down = sum([int(t[1]) for t in directions if t[0] == 'down'])"
   ]
  },
  {
   "cell_type": "code",
   "execution_count": 48,
   "metadata": {},
   "outputs": [
    {
     "data": {
      "text/plain": [
       "1893605"
      ]
     },
     "execution_count": 48,
     "metadata": {},
     "output_type": "execute_result"
    }
   ],
   "source": [
    "position = forward * (down - up)\n",
    "position"
   ]
  },
  {
   "cell_type": "markdown",
   "metadata": {},
   "source": [
    "## Part 2"
   ]
  },
  {
   "cell_type": "code",
   "execution_count": null,
   "metadata": {},
   "outputs": [],
   "source": []
  },
  {
   "cell_type": "code",
   "execution_count": 60,
   "metadata": {},
   "outputs": [],
   "source": [
    "class followDirections:\n",
    "    def __init__(self):\n",
    "        self.horizontal = 0\n",
    "        self.depth = 0\n",
    "        self.aim = 0\n",
    "\n",
    "    def forward(self, x):\n",
    "        self.horizontal += x\n",
    "        self.depth += (x*self.aim)\n",
    "\n",
    "    def up(self, x):\n",
    "        if x <= self.aim:\n",
    "            self.aim -= x\n",
    "        else:\n",
    "            self.aim = 0\n",
    "\n",
    "    def down(self, x):\n",
    "        self.aim += x"
   ]
  },
  {
   "cell_type": "code",
   "execution_count": 61,
   "metadata": {},
   "outputs": [],
   "source": [
    "position = followDirections()\n",
    "\n",
    "for t in directions:\n",
    "    if t[0] == 'forward':\n",
    "        position.forward(x=int(t[1]))\n",
    "    elif t[0] == 'up':\n",
    "        position.up(x=int(t[1]))\n",
    "    else:\n",
    "        position.down(x=int(t[1]))\n"
   ]
  },
  {
   "cell_type": "code",
   "execution_count": 62,
   "metadata": {},
   "outputs": [
    {
     "data": {
      "text/plain": [
       "2120734350"
      ]
     },
     "execution_count": 62,
     "metadata": {},
     "output_type": "execute_result"
    }
   ],
   "source": [
    "final_pos = position.depth * position.horizontal\n",
    "final_pos"
   ]
  },
  {
   "cell_type": "markdown",
   "metadata": {},
   "source": []
  }
 ],
 "metadata": {
  "interpreter": {
   "hash": "b7cce0602b880e843da4cf4c0574e147bfa557f2a1f8b14453fa90a9dc9da775"
  },
  "kernelspec": {
   "display_name": "Python 3.8.11 64-bit ('3.8.11': pyenv)",
   "language": "python",
   "name": "python3"
  },
  "language_info": {
   "codemirror_mode": {
    "name": "ipython",
    "version": 3
   },
   "file_extension": ".py",
   "mimetype": "text/x-python",
   "name": "python",
   "nbconvert_exporter": "python",
   "pygments_lexer": "ipython3",
   "version": "3.8.12"
  },
  "orig_nbformat": 4
 },
 "nbformat": 4,
 "nbformat_minor": 2
}
